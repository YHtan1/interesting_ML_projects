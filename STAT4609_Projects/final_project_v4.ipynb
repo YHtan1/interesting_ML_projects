{
 "cells": [
  {
   "cell_type": "markdown",
   "id": "21c98a49-760f-4f85-a9c9-cffb141e8a92",
   "metadata": {},
   "source": [
    "# Final Project\n",
    "---\n",
    "\n",
    "For your final assignment, you are tasked with building a predictive model for the movie ratings in the MovieLens 1M dataset. You may download the dataset here: https://grouplens.org/datasets/movielens/1m/. This is a dataset containing 1 million movie ratings, with side information about the users and movies. \n",
    "\n",
    "You will write an essay detailing your model implementation and results on this dataset. First, you will split the data into a 80% training data set and a 20% held-out test data set. Then, you will propose a model to fit to the data for this problem and implement it yourself. Please explain why you chose to use your proposed model. You should use the ideas taught in the class to inform your analysis. Explain any model selection procedures you use in this assignment. Finally, report the test set MSE of your model's predictions on the test set ratings and conclude your essay properly. There is no page minimum for the essay, but there is a maximum of 10 pages (using regular formatting like 2.5cm margins, 12pt font, A4 size. The page limit includes any graphs / figures / etc.). Your writing must be coherent and organized. If you are unsure how to organize a paper, please follow this example for what a proper essay will look like: https://jgscott.github.io/teaching/writeups/write_ups/. \n",
    "\n",
    "For this assignment, you must submit a Jupyter notebook containing your code. You must ensure the code you submit in this assignment runs properly and can generate all the figures and results you mention in your essay. **YOU MAY NOT USE PREWRITTEN PACKAGES FOR FITTING THE DATA TO THE MODEL, MEANING YOU MUST WRITE YOUR OWN IMPLEMENTATION**. You may reuse code that you have previously written, or code from your tutorial sessions. However, you are permitted to use any of the functions available in numpy, scipy, pandas or pytorch, This includes the optimization and linear algebra packages in the previously named packages. Additionally, you can use some of the preprocessing packages in sklearn, if you think you will need it. You may not use any of the test data to help train the model. You should write your code in the form of a neatly organized object, like you have done in your previous HW assignments. \n",
    "\n",
    "Your submission for this assignment will be your Jupyter notebook containing your code and a .pdf file containing your essay. Due to the tight deadlines with the final marks, **NO EXTENSIONS WILL BE GRANTED**. Students are reminded to acquaint themselves with the HKU policies on academic dishonesty in order to avoid any problems with plagiarism."
   ]
  },
  {
   "cell_type": "markdown",
   "id": "f2c7c96d-de2c-4037-9ea1-023858883453",
   "metadata": {},
   "source": [
    "Your implementation may only use the packages below:"
   ]
  },
  {
   "cell_type": "code",
   "execution_count": 14,
   "id": "54bec7ec-e02c-424b-9957-5791f4458d70",
   "metadata": {},
   "outputs": [],
   "source": [
    "# YOU MAY ONLY USE THE FOLLOWING PACKAGES\n",
    "import numpy as np\n",
    "import scipy as sp\n",
    "import pandas as pd\n",
    "import torch\n",
    "from sklearn.model_selection import train_test_split\n",
    "from sklearn.preprocessing import *"
   ]
  },
  {
   "cell_type": "markdown",
   "id": "835380e4-cc45-409a-ad27-9485121d9eed",
   "metadata": {},
   "source": [
    "You must use the following code to load the data and split the ratings matrix into a training and test set."
   ]
  },
  {
   "cell_type": "code",
   "execution_count": 15,
   "id": "5422f52a-c97d-4a6e-86bc-a288a0235c15",
   "metadata": {},
   "outputs": [],
   "source": [
    "# DO NOT MODIFY ANY OF THE CODE IN THIS BLOCK\n",
    "rating_names = ['UserID', 'MovieID', 'Rating', 'Timestamp']\n",
    "movie_names  = ['MovieID', 'Title', 'Genres']\n",
    "user_names   = ['UserID','Gender','Age','Occupation','Zip-code']\n",
    "ratings      = pd.read_csv(\"ratings.dat\", delimiter=\"::\", names=rating_names, engine=\"python\", encoding='latin-1')\n",
    "movies       = pd.read_csv(\"movies.dat\", delimiter=\"::\", names=movie_names, engine=\"python\", encoding='latin-1')\n",
    "users        = pd.read_csv(\"users.dat\", delimiter=\"::\", names=user_names, engine=\"python\", encoding='latin-1')\n",
    "train_ratings, test_ratings = train_test_split(ratings, test_size=0.2, random_state=0)"
   ]
  },
  {
   "cell_type": "markdown",
   "id": "0bb0c067-452f-481b-a540-02d44c843ee0",
   "metadata": {},
   "source": [
    "You may inspect the data using the head() function."
   ]
  },
  {
   "cell_type": "code",
   "execution_count": 16,
   "id": "d4500c36-2d03-470c-80b2-bb88a9c3c8ad",
   "metadata": {},
   "outputs": [
    {
     "data": {
      "text/html": [
       "<div>\n",
       "<style scoped>\n",
       "    .dataframe tbody tr th:only-of-type {\n",
       "        vertical-align: middle;\n",
       "    }\n",
       "\n",
       "    .dataframe tbody tr th {\n",
       "        vertical-align: top;\n",
       "    }\n",
       "\n",
       "    .dataframe thead th {\n",
       "        text-align: right;\n",
       "    }\n",
       "</style>\n",
       "<table border=\"1\" class=\"dataframe\">\n",
       "  <thead>\n",
       "    <tr style=\"text-align: right;\">\n",
       "      <th></th>\n",
       "      <th>UserID</th>\n",
       "      <th>MovieID</th>\n",
       "      <th>Rating</th>\n",
       "      <th>Timestamp</th>\n",
       "    </tr>\n",
       "  </thead>\n",
       "  <tbody>\n",
       "    <tr>\n",
       "      <th>37222</th>\n",
       "      <td>253</td>\n",
       "      <td>3418</td>\n",
       "      <td>3</td>\n",
       "      <td>976688190</td>\n",
       "    </tr>\n",
       "    <tr>\n",
       "      <th>145484</th>\n",
       "      <td>935</td>\n",
       "      <td>1954</td>\n",
       "      <td>5</td>\n",
       "      <td>976669675</td>\n",
       "    </tr>\n",
       "    <tr>\n",
       "      <th>345747</th>\n",
       "      <td>2029</td>\n",
       "      <td>3034</td>\n",
       "      <td>4</td>\n",
       "      <td>974670594</td>\n",
       "    </tr>\n",
       "    <tr>\n",
       "      <th>358642</th>\n",
       "      <td>2098</td>\n",
       "      <td>356</td>\n",
       "      <td>4</td>\n",
       "      <td>974652753</td>\n",
       "    </tr>\n",
       "    <tr>\n",
       "      <th>562909</th>\n",
       "      <td>3463</td>\n",
       "      <td>1240</td>\n",
       "      <td>4</td>\n",
       "      <td>967174968</td>\n",
       "    </tr>\n",
       "  </tbody>\n",
       "</table>\n",
       "</div>"
      ],
      "text/plain": [
       "        UserID  MovieID  Rating  Timestamp\n",
       "37222      253     3418       3  976688190\n",
       "145484     935     1954       5  976669675\n",
       "345747    2029     3034       4  974670594\n",
       "358642    2098      356       4  974652753\n",
       "562909    3463     1240       4  967174968"
      ]
     },
     "execution_count": 16,
     "metadata": {},
     "output_type": "execute_result"
    }
   ],
   "source": [
    "train_ratings.head()"
   ]
  },
  {
   "cell_type": "code",
   "execution_count": 17,
   "id": "c4986bd5-04f5-457d-9855-680079abbe39",
   "metadata": {},
   "outputs": [
    {
     "data": {
      "text/html": [
       "<div>\n",
       "<style scoped>\n",
       "    .dataframe tbody tr th:only-of-type {\n",
       "        vertical-align: middle;\n",
       "    }\n",
       "\n",
       "    .dataframe tbody tr th {\n",
       "        vertical-align: top;\n",
       "    }\n",
       "\n",
       "    .dataframe thead th {\n",
       "        text-align: right;\n",
       "    }\n",
       "</style>\n",
       "<table border=\"1\" class=\"dataframe\">\n",
       "  <thead>\n",
       "    <tr style=\"text-align: right;\">\n",
       "      <th></th>\n",
       "      <th>MovieID</th>\n",
       "      <th>Title</th>\n",
       "      <th>Genres</th>\n",
       "    </tr>\n",
       "  </thead>\n",
       "  <tbody>\n",
       "    <tr>\n",
       "      <th>0</th>\n",
       "      <td>1</td>\n",
       "      <td>Toy Story (1995)</td>\n",
       "      <td>Animation|Children's|Comedy</td>\n",
       "    </tr>\n",
       "    <tr>\n",
       "      <th>1</th>\n",
       "      <td>2</td>\n",
       "      <td>Jumanji (1995)</td>\n",
       "      <td>Adventure|Children's|Fantasy</td>\n",
       "    </tr>\n",
       "    <tr>\n",
       "      <th>2</th>\n",
       "      <td>3</td>\n",
       "      <td>Grumpier Old Men (1995)</td>\n",
       "      <td>Comedy|Romance</td>\n",
       "    </tr>\n",
       "    <tr>\n",
       "      <th>3</th>\n",
       "      <td>4</td>\n",
       "      <td>Waiting to Exhale (1995)</td>\n",
       "      <td>Comedy|Drama</td>\n",
       "    </tr>\n",
       "    <tr>\n",
       "      <th>4</th>\n",
       "      <td>5</td>\n",
       "      <td>Father of the Bride Part II (1995)</td>\n",
       "      <td>Comedy</td>\n",
       "    </tr>\n",
       "  </tbody>\n",
       "</table>\n",
       "</div>"
      ],
      "text/plain": [
       "   MovieID                               Title                        Genres\n",
       "0        1                    Toy Story (1995)   Animation|Children's|Comedy\n",
       "1        2                      Jumanji (1995)  Adventure|Children's|Fantasy\n",
       "2        3             Grumpier Old Men (1995)                Comedy|Romance\n",
       "3        4            Waiting to Exhale (1995)                  Comedy|Drama\n",
       "4        5  Father of the Bride Part II (1995)                        Comedy"
      ]
     },
     "execution_count": 17,
     "metadata": {},
     "output_type": "execute_result"
    }
   ],
   "source": [
    "movies.head()"
   ]
  },
  {
   "cell_type": "code",
   "execution_count": 18,
   "id": "c7f1d333-babd-4dc2-b6e3-d982350dc345",
   "metadata": {},
   "outputs": [
    {
     "data": {
      "text/html": [
       "<div>\n",
       "<style scoped>\n",
       "    .dataframe tbody tr th:only-of-type {\n",
       "        vertical-align: middle;\n",
       "    }\n",
       "\n",
       "    .dataframe tbody tr th {\n",
       "        vertical-align: top;\n",
       "    }\n",
       "\n",
       "    .dataframe thead th {\n",
       "        text-align: right;\n",
       "    }\n",
       "</style>\n",
       "<table border=\"1\" class=\"dataframe\">\n",
       "  <thead>\n",
       "    <tr style=\"text-align: right;\">\n",
       "      <th></th>\n",
       "      <th>UserID</th>\n",
       "      <th>Gender</th>\n",
       "      <th>Age</th>\n",
       "      <th>Occupation</th>\n",
       "      <th>Zip-code</th>\n",
       "    </tr>\n",
       "  </thead>\n",
       "  <tbody>\n",
       "    <tr>\n",
       "      <th>0</th>\n",
       "      <td>1</td>\n",
       "      <td>F</td>\n",
       "      <td>1</td>\n",
       "      <td>10</td>\n",
       "      <td>48067</td>\n",
       "    </tr>\n",
       "    <tr>\n",
       "      <th>1</th>\n",
       "      <td>2</td>\n",
       "      <td>M</td>\n",
       "      <td>56</td>\n",
       "      <td>16</td>\n",
       "      <td>70072</td>\n",
       "    </tr>\n",
       "    <tr>\n",
       "      <th>2</th>\n",
       "      <td>3</td>\n",
       "      <td>M</td>\n",
       "      <td>25</td>\n",
       "      <td>15</td>\n",
       "      <td>55117</td>\n",
       "    </tr>\n",
       "    <tr>\n",
       "      <th>3</th>\n",
       "      <td>4</td>\n",
       "      <td>M</td>\n",
       "      <td>45</td>\n",
       "      <td>7</td>\n",
       "      <td>02460</td>\n",
       "    </tr>\n",
       "    <tr>\n",
       "      <th>4</th>\n",
       "      <td>5</td>\n",
       "      <td>M</td>\n",
       "      <td>25</td>\n",
       "      <td>20</td>\n",
       "      <td>55455</td>\n",
       "    </tr>\n",
       "  </tbody>\n",
       "</table>\n",
       "</div>"
      ],
      "text/plain": [
       "   UserID Gender  Age  Occupation Zip-code\n",
       "0       1      F    1          10    48067\n",
       "1       2      M   56          16    70072\n",
       "2       3      M   25          15    55117\n",
       "3       4      M   45           7    02460\n",
       "4       5      M   25          20    55455"
      ]
     },
     "execution_count": 18,
     "metadata": {},
     "output_type": "execute_result"
    }
   ],
   "source": [
    "users.head()"
   ]
  },
  {
   "cell_type": "code",
   "execution_count": 19,
   "id": "2a7cb362",
   "metadata": {},
   "outputs": [
    {
     "name": "stdout",
     "output_type": "stream",
     "text": [
      "MovieID  1     2     3     4     5     6     7     8     9     10    ...  \\\n",
      "UserID                                                               ...   \n",
      "1         5.0   0.0   0.0   0.0   0.0   0.0   0.0   0.0   0.0   0.0  ...   \n",
      "2         0.0   0.0   0.0   0.0   0.0   0.0   0.0   0.0   0.0   0.0  ...   \n",
      "3         0.0   0.0   0.0   0.0   0.0   0.0   0.0   0.0   0.0   0.0  ...   \n",
      "4         0.0   0.0   0.0   0.0   0.0   0.0   0.0   0.0   0.0   0.0  ...   \n",
      "5         0.0   0.0   0.0   0.0   0.0   2.0   0.0   0.0   0.0   0.0  ...   \n",
      "...       ...   ...   ...   ...   ...   ...   ...   ...   ...   ...  ...   \n",
      "6036      0.0   0.0   0.0   2.0   0.0   3.0   0.0   0.0   0.0   0.0  ...   \n",
      "6037      0.0   0.0   0.0   0.0   0.0   0.0   0.0   0.0   0.0   0.0  ...   \n",
      "6038      0.0   0.0   0.0   0.0   0.0   0.0   0.0   0.0   0.0   0.0  ...   \n",
      "6039      0.0   0.0   0.0   0.0   0.0   0.0   0.0   0.0   0.0   0.0  ...   \n",
      "6040      0.0   0.0   0.0   0.0   0.0   0.0   0.0   0.0   0.0   0.0  ...   \n",
      "\n",
      "MovieID  3943  3944  3945  3946  3947  3948  3949  3950  3951  3952  \n",
      "UserID                                                               \n",
      "1         0.0   0.0   0.0   0.0   0.0   0.0   0.0   0.0   0.0   0.0  \n",
      "2         0.0   0.0   0.0   0.0   0.0   0.0   0.0   0.0   0.0   0.0  \n",
      "3         0.0   0.0   0.0   0.0   0.0   0.0   0.0   0.0   0.0   0.0  \n",
      "4         0.0   0.0   0.0   0.0   0.0   0.0   0.0   0.0   0.0   0.0  \n",
      "5         0.0   0.0   0.0   0.0   0.0   0.0   0.0   0.0   0.0   0.0  \n",
      "...       ...   ...   ...   ...   ...   ...   ...   ...   ...   ...  \n",
      "6036      0.0   0.0   0.0   0.0   0.0   0.0   0.0   0.0   0.0   0.0  \n",
      "6037      0.0   0.0   0.0   0.0   0.0   0.0   0.0   0.0   0.0   0.0  \n",
      "6038      0.0   0.0   0.0   0.0   0.0   0.0   0.0   0.0   0.0   0.0  \n",
      "6039      0.0   0.0   0.0   0.0   0.0   0.0   0.0   0.0   0.0   0.0  \n",
      "6040      0.0   0.0   0.0   0.0   0.0   0.0   0.0   0.0   0.0   0.0  \n",
      "\n",
      "[6040 rows x 3676 columns]\n"
     ]
    }
   ],
   "source": [
    "#create ratings matrix to store ratings for further manipulation\n",
    "ratings_matrix=train_ratings.pivot_table(index='UserID',columns='MovieID',values='Rating',fill_value=0)\n",
    "\n",
    "#print out matrix to check\n",
    "print(ratings_matrix)"
   ]
  },
  {
   "cell_type": "code",
   "execution_count": 20,
   "metadata": {},
   "outputs": [],
   "source": [
    "#removing user bias\n",
    "#calculate user mean\n",
    "user_mean=np.nanmean(ratings_matrix.replace(0,np.nan),axis=1)\n",
    "#replace all empty cells (that was rated 0) with mean prediction\n",
    "ratings_matrix_filled=ratings_matrix.copy()\n",
    "for i in range(ratings_matrix.shape[0]):\n",
    "    ratings_matrix_filled.iloc[i].replace(0,user_mean[i],inplace=True)\n",
    "\n",
    "#this time do not use filled matrix\n",
    "#center the matrix to avoid user bias\n",
    "ratings_matrix_user_centered=ratings_matrix-user_mean.reshape(-1,1)\n",
    "\n",
    "#do not force negative excess scores=0\n",
    "# ratings_matrix_user_centered[ratings_matrix_user_centered<0]=0\n",
    "\n",
    "#centered matrix\n",
    "# user_mean=np.array(np.mean(ratings_matrix,axis=1))\n",
    "# ratings_matrix_user_centered=ratings_matrix-user_mean[:,np.newaxis]"
   ]
  },
  {
   "cell_type": "code",
   "execution_count": 21,
   "id": "4a46f2fb",
   "metadata": {},
   "outputs": [
    {
     "name": "stdout",
     "output_type": "stream",
     "text": [
      "MovieID  1     2     3     4     5     6     7     8     9     10    ...  \\\n",
      "UserID                                                               ...   \n",
      "1         5.0   0.0   0.0   0.0   0.0   0.0   0.0   0.0   0.0   0.0  ...   \n",
      "2         0.0   0.0   0.0   0.0   0.0   0.0   0.0   0.0   0.0   0.0  ...   \n",
      "3         0.0   0.0   0.0   0.0   0.0   0.0   0.0   0.0   0.0   0.0  ...   \n",
      "4         0.0   0.0   0.0   0.0   0.0   0.0   0.0   0.0   0.0   0.0  ...   \n",
      "5         0.0   0.0   0.0   0.0   0.0   2.0   0.0   0.0   0.0   0.0  ...   \n",
      "...       ...   ...   ...   ...   ...   ...   ...   ...   ...   ...  ...   \n",
      "6036      0.0   0.0   0.0   2.0   0.0   3.0   0.0   0.0   0.0   0.0  ...   \n",
      "6037      0.0   0.0   0.0   0.0   0.0   0.0   0.0   0.0   0.0   0.0  ...   \n",
      "6038      0.0   0.0   0.0   0.0   0.0   0.0   0.0   0.0   0.0   0.0  ...   \n",
      "6039      0.0   0.0   0.0   0.0   0.0   0.0   0.0   0.0   0.0   0.0  ...   \n",
      "6040      0.0   0.0   0.0   0.0   0.0   0.0   0.0   0.0   0.0   0.0  ...   \n",
      "\n",
      "MovieID  3943  3944  3945  3946  3947  3948  3949  3950  3951  3952  \n",
      "UserID                                                               \n",
      "1         0.0   0.0   0.0   0.0   0.0   0.0   0.0   0.0   0.0   0.0  \n",
      "2         0.0   0.0   0.0   0.0   0.0   0.0   0.0   0.0   0.0   0.0  \n",
      "3         0.0   0.0   0.0   0.0   0.0   0.0   0.0   0.0   0.0   0.0  \n",
      "4         0.0   0.0   0.0   0.0   0.0   0.0   0.0   0.0   0.0   0.0  \n",
      "5         0.0   0.0   0.0   0.0   0.0   0.0   0.0   0.0   0.0   0.0  \n",
      "...       ...   ...   ...   ...   ...   ...   ...   ...   ...   ...  \n",
      "6036      0.0   0.0   0.0   0.0   0.0   0.0   0.0   0.0   0.0   0.0  \n",
      "6037      0.0   0.0   0.0   0.0   0.0   0.0   0.0   0.0   0.0   0.0  \n",
      "6038      0.0   0.0   0.0   0.0   0.0   0.0   0.0   0.0   0.0   0.0  \n",
      "6039      0.0   0.0   0.0   0.0   0.0   0.0   0.0   0.0   0.0   0.0  \n",
      "6040      0.0   0.0   0.0   0.0   0.0   0.0   0.0   0.0   0.0   0.0  \n",
      "\n",
      "[6040 rows x 3676 columns]\n",
      "MovieID      1         2         3         4         5         6         7     \\\n",
      "UserID                                                                          \n",
      "1        5.000000  4.142857  4.142857  4.142857  4.142857  4.142857  4.142857   \n",
      "2        3.618557  3.618557  3.618557  3.618557  3.618557  3.618557  3.618557   \n",
      "3        3.833333  3.833333  3.833333  3.833333  3.833333  3.833333  3.833333   \n",
      "4        4.166667  4.166667  4.166667  4.166667  4.166667  4.166667  4.166667   \n",
      "5        3.211180  3.211180  3.211180  3.211180  3.211180  2.000000  3.211180   \n",
      "...           ...       ...       ...       ...       ...       ...       ...   \n",
      "6036     3.305062  3.305062  3.305062  2.000000  3.305062  3.000000  3.305062   \n",
      "6037     3.660494  3.660494  3.660494  3.660494  3.660494  3.660494  3.660494   \n",
      "6038     3.666667  3.666667  3.666667  3.666667  3.666667  3.666667  3.666667   \n",
      "6039     3.871287  3.871287  3.871287  3.871287  3.871287  3.871287  3.871287   \n",
      "6040     3.602996  3.602996  3.602996  3.602996  3.602996  3.602996  3.602996   \n",
      "\n",
      "MovieID      8         9         10    ...      3943      3944      3945  \\\n",
      "UserID                                 ...                                 \n",
      "1        4.142857  4.142857  4.142857  ...  4.142857  4.142857  4.142857   \n",
      "2        3.618557  3.618557  3.618557  ...  3.618557  3.618557  3.618557   \n",
      "3        3.833333  3.833333  3.833333  ...  3.833333  3.833333  3.833333   \n",
      "4        4.166667  4.166667  4.166667  ...  4.166667  4.166667  4.166667   \n",
      "5        3.211180  3.211180  3.211180  ...  3.211180  3.211180  3.211180   \n",
      "...           ...       ...       ...  ...       ...       ...       ...   \n",
      "6036     3.305062  3.305062  3.305062  ...  3.305062  3.305062  3.305062   \n",
      "6037     3.660494  3.660494  3.660494  ...  3.660494  3.660494  3.660494   \n",
      "6038     3.666667  3.666667  3.666667  ...  3.666667  3.666667  3.666667   \n",
      "6039     3.871287  3.871287  3.871287  ...  3.871287  3.871287  3.871287   \n",
      "6040     3.602996  3.602996  3.602996  ...  3.602996  3.602996  3.602996   \n",
      "\n",
      "MovieID      3946      3947      3948      3949      3950      3951      3952  \n",
      "UserID                                                                         \n",
      "1        4.142857  4.142857  4.142857  4.142857  4.142857  4.142857  4.142857  \n",
      "2        3.618557  3.618557  3.618557  3.618557  3.618557  3.618557  3.618557  \n",
      "3        3.833333  3.833333  3.833333  3.833333  3.833333  3.833333  3.833333  \n",
      "4        4.166667  4.166667  4.166667  4.166667  4.166667  4.166667  4.166667  \n",
      "5        3.211180  3.211180  3.211180  3.211180  3.211180  3.211180  3.211180  \n",
      "...           ...       ...       ...       ...       ...       ...       ...  \n",
      "6036     3.305062  3.305062  3.305062  3.305062  3.305062  3.305062  3.305062  \n",
      "6037     3.660494  3.660494  3.660494  3.660494  3.660494  3.660494  3.660494  \n",
      "6038     3.666667  3.666667  3.666667  3.666667  3.666667  3.666667  3.666667  \n",
      "6039     3.871287  3.871287  3.871287  3.871287  3.871287  3.871287  3.871287  \n",
      "6040     3.602996  3.602996  3.602996  3.602996  3.602996  3.602996  3.602996  \n",
      "\n",
      "[6040 rows x 3676 columns]\n",
      "MovieID      1         2         3         4         5         6         7     \\\n",
      "UserID                                                                          \n",
      "1        0.857143 -4.142857 -4.142857 -4.142857 -4.142857 -4.142857 -4.142857   \n",
      "2       -3.618557 -3.618557 -3.618557 -3.618557 -3.618557 -3.618557 -3.618557   \n",
      "3       -3.833333 -3.833333 -3.833333 -3.833333 -3.833333 -3.833333 -3.833333   \n",
      "4       -4.166667 -4.166667 -4.166667 -4.166667 -4.166667 -4.166667 -4.166667   \n",
      "5       -3.211180 -3.211180 -3.211180 -3.211180 -3.211180 -1.211180 -3.211180   \n",
      "...           ...       ...       ...       ...       ...       ...       ...   \n",
      "6036    -3.305062 -3.305062 -3.305062 -1.305062 -3.305062 -0.305062 -3.305062   \n",
      "6037    -3.660494 -3.660494 -3.660494 -3.660494 -3.660494 -3.660494 -3.660494   \n",
      "6038    -3.666667 -3.666667 -3.666667 -3.666667 -3.666667 -3.666667 -3.666667   \n",
      "6039    -3.871287 -3.871287 -3.871287 -3.871287 -3.871287 -3.871287 -3.871287   \n",
      "6040    -3.602996 -3.602996 -3.602996 -3.602996 -3.602996 -3.602996 -3.602996   \n",
      "\n",
      "MovieID      8         9         10    ...      3943      3944      3945  \\\n",
      "UserID                                 ...                                 \n",
      "1       -4.142857 -4.142857 -4.142857  ... -4.142857 -4.142857 -4.142857   \n",
      "2       -3.618557 -3.618557 -3.618557  ... -3.618557 -3.618557 -3.618557   \n",
      "3       -3.833333 -3.833333 -3.833333  ... -3.833333 -3.833333 -3.833333   \n",
      "4       -4.166667 -4.166667 -4.166667  ... -4.166667 -4.166667 -4.166667   \n",
      "5       -3.211180 -3.211180 -3.211180  ... -3.211180 -3.211180 -3.211180   \n",
      "...           ...       ...       ...  ...       ...       ...       ...   \n",
      "6036    -3.305062 -3.305062 -3.305062  ... -3.305062 -3.305062 -3.305062   \n",
      "6037    -3.660494 -3.660494 -3.660494  ... -3.660494 -3.660494 -3.660494   \n",
      "6038    -3.666667 -3.666667 -3.666667  ... -3.666667 -3.666667 -3.666667   \n",
      "6039    -3.871287 -3.871287 -3.871287  ... -3.871287 -3.871287 -3.871287   \n",
      "6040    -3.602996 -3.602996 -3.602996  ... -3.602996 -3.602996 -3.602996   \n",
      "\n",
      "MovieID      3946      3947      3948      3949      3950      3951      3952  \n",
      "UserID                                                                         \n",
      "1       -4.142857 -4.142857 -4.142857 -4.142857 -4.142857 -4.142857 -4.142857  \n",
      "2       -3.618557 -3.618557 -3.618557 -3.618557 -3.618557 -3.618557 -3.618557  \n",
      "3       -3.833333 -3.833333 -3.833333 -3.833333 -3.833333 -3.833333 -3.833333  \n",
      "4       -4.166667 -4.166667 -4.166667 -4.166667 -4.166667 -4.166667 -4.166667  \n",
      "5       -3.211180 -3.211180 -3.211180 -3.211180 -3.211180 -3.211180 -3.211180  \n",
      "...           ...       ...       ...       ...       ...       ...       ...  \n",
      "6036    -3.305062 -3.305062 -3.305062 -3.305062 -3.305062 -3.305062 -3.305062  \n",
      "6037    -3.660494 -3.660494 -3.660494 -3.660494 -3.660494 -3.660494 -3.660494  \n",
      "6038    -3.666667 -3.666667 -3.666667 -3.666667 -3.666667 -3.666667 -3.666667  \n",
      "6039    -3.871287 -3.871287 -3.871287 -3.871287 -3.871287 -3.871287 -3.871287  \n",
      "6040    -3.602996 -3.602996 -3.602996 -3.602996 -3.602996 -3.602996 -3.602996  \n",
      "\n",
      "[6040 rows x 3676 columns]\n"
     ]
    }
   ],
   "source": [
    "print(ratings_matrix)\n",
    "print(ratings_matrix_filled)\n",
    "print(ratings_matrix_user_centered)"
   ]
  },
  {
   "cell_type": "code",
   "execution_count": 22,
   "id": "36260916",
   "metadata": {},
   "outputs": [
    {
     "data": {
      "image/png": "[encoded data removed]",
      "text/plain": [
       "<Figure size 1000x1000 with 1 Axes>"
      ]
     },
     "metadata": {},
     "output_type": "display_data"
    },
    {
     "data": {
      "image/png": "[encoded data removed]",
      "text/plain": [
       "<Figure size 1000x1000 with 1 Axes>"
      ]
     },
     "metadata": {},
     "output_type": "display_data"
    },
    {
     "data": {
      "image/png": "[encoded data removed]",
      "text/plain": [
       "<Figure size 640x480 with 1 Axes>"
      ]
     },
     "metadata": {},
     "output_type": "display_data"
    },
    {
     "data": {
      "image/png": "[encoded data removed]",
      "text/plain": [
       "<Figure size 640x480 with 1 Axes>"
      ]
     },
     "metadata": {},
     "output_type": "display_data"
    }
   ],
   "source": [
    "#study on numbers of ratings per movie\n",
    "#this looks at the dsitribution of ratings of each movie\n",
    "\n",
    "import matplotlib.pyplot as plt\n",
    "#set plot size\n",
    "plt.figure(figsize=(10,10))\n",
    "#plot looks at the number of users rating each movie\n",
    "plt.hist(np.sum(ratings_matrix.astype(bool).astype(int),axis=0),bins=np.arange(0,1000,10)) \n",
    "# plt.bar(ratings_matrix.columns.values,np.sum(ratings_matrix.astype(bool).astype(int),axis=0))\n",
    "plt.xticks(np.arange(0,1000,100))\n",
    "plt.xlabel(\"Counts of Ratings\")\n",
    "plt.ylabel(\"Frequency of Movies with this Count\")\n",
    "plt.title(\"Frequency of Movies vs Counts of Ratings\")\n",
    "plt.show()\n",
    "\n",
    "#plot out boxplot of number of users rating each movie\n",
    "plt.figure(figsize=(10,10))\n",
    "plt.boxplot(np.sum(ratings_matrix.astype(bool).astype(int),axis=0),vert=False,flierprops=dict(marker='+', markersize=4))\n",
    "plt.title(\"Counts of Users by Movie\")\n",
    "plt.show()\n",
    "\n",
    "#plot out average rating for movies\n",
    "plt.hist(np.nanmean(ratings_matrix.replace(0,np.nan),axis=0),bins=100)\n",
    "plt.xlabel(\"Average Rating\")\n",
    "plt.ylabel(\"Counts of Movies\")\n",
    "plt.title(\"Counts of Movie vs Average Rating\")\n",
    "plt.show()\n",
    "\n",
    "#plot out standard deviation of movie ratings\n",
    "plt.hist(np.nanstd(ratings_matrix.replace(0,np.nan),axis=0),bins=100)\n",
    "plt.xlabel(\"Standard Deviation of Ratings\")\n",
    "plt.ylabel(\"Counts of Movies\")\n",
    "plt.title(\"Counts of Movie vs Standard Deviation of Ratings\")\n",
    "plt.show()"
   ]
  },
  {
   "cell_type": "code",
   "execution_count": 23,
   "id": "572afb9b",
   "metadata": {},
   "outputs": [],
   "source": [
    "#build recommender system for data\n",
    "class Recommender:\n",
    "    def __init__(self,ratings_matrix):\n",
    "        #store the rating matrix\n",
    "        self.ratings_matrix=ratings_matrix\n",
    "\n",
    "        #replace all empty cells (that was rated 0) with mean prediction\n",
    "        ratings_matrix_filled=ratings_matrix.copy()\n",
    "        for i in range(self.ratings_matrix.shape[0]):\n",
    "            ratings_matrix_filled.iloc[i].replace(0,user_mean[i],inplace=True)\n",
    "        #create centered matrix to avoid user bias\n",
    "        self.ratings_matrix_user_centered=ratings_matrix_filled-user_mean.reshape(-1,1)\n",
    "\n",
    "        #calculate user mean and movie mean\n",
    "        self.user_mean=np.nanmean(self.ratings_matrix.replace(0,np.nan),axis=1)\n",
    "        self.movie_mean=np.nanmean(self.ratings_matrix.replace(0,np.nan),axis=0)\n",
    "\n",
    "    def similarity_matrix(self):\n",
    "        #calculate pearson similarity between users\n",
    "        self.pear_sim_user=np.corrcoef(self.ratings_matrix,rowvar=True)\n",
    "        #calculate pearson similarity between movies\n",
    "        self.pear_sim_movie=np.corrcoef(self.ratings_matrix,rowvar=False)\n",
    "        return self\n",
    "\n",
    "    def user_score_existing(self,user_id,movie_id,k=10):\n",
    "        #k is the number of nearest neighbors included in average\n",
    "        #extract user position and movie position from ratings matrix (this matrix is only matrix that stores this information)\n",
    "        user_position=np.where(self.ratings_matrix.index==user_id)[0][0]\n",
    "        movie_position=np.where(self.ratings_matrix.columns==movie_id)[0][0]\n",
    "\n",
    "        #similarity vector of user\n",
    "        sim_user=self.pear_sim_user[user_position,:]\n",
    "        #excess ratings of all users for this movie\n",
    "        excess_score=np.array(self.ratings_matrix_user_centered.iloc[:,movie_position])\n",
    "        #take most similar k users+ user must have rating for item\n",
    "        has_rating=np.where(excess_score!=0)[0]\n",
    "        #choose k most similar users out of users that have rated the item\n",
    "        k_neighbours=has_rating[np.argsort(sim_user[has_rating])[::-1][1:k+1]]\n",
    "        # print(k_neighbours)\n",
    "        # print(sim_user[k_neighbours])\n",
    "        # print(excess_score[k_neighbours])\n",
    "        return np.nan_to_num(sim_user[k_neighbours]@excess_score[k_neighbours]/np.sum(sim_user[k_neighbours]),nan=0)+self.user_mean[user_position]\n",
    "    \n",
    "    def movie_score_existing(self,user_id,movie_id,k=10):\n",
    "        #k is the number of nearest neighbors included in average\n",
    "        #extract user and movie position from ratings matrix (this matrix is only matrix that stores this information)\n",
    "        user_position=np.where(self.ratings_matrix.index==user_id)[0][0]\n",
    "        movie_position=np.where(self.ratings_matrix.columns==movie_id)[0][0]\n",
    "\n",
    "        #similarity of movie\n",
    "        sim_movie=self.pear_sim_movie[movie_position,:]\n",
    "        #score of all users for this movie\n",
    "        #extract user u with ratings for this movie\n",
    "        score=np.array(self.ratings_matrix.iloc[user_position,:])\n",
    "        #extract users with ratings for this movie\n",
    "        has_rating=np.where(score!=0)[0]\n",
    "        # print(np.argsort(sim_movie[has_rating])[::-1][1:k+1])\n",
    "        #choose k most similar users out of users that have rated the item\n",
    "        k_neighbours=has_rating[np.argsort(sim_movie[has_rating])[::-1][1:k+1]]\n",
    "        return np.nan_to_num(sim_movie[k_neighbours]@score[k_neighbours]/np.sum(sim_movie[k_neighbours]))\n",
    "\n",
    "    def user_score_new(self,movie_id,k=10):\n",
    "        #movie is in the training set but user is new\n",
    "        movie_position=np.where(self.ratings_matrix.columns==movie_id)[0][0]\n",
    "        #score of all users for this movie + replace all 0 with nan for calculation\n",
    "        score=self.ratings_matrix.iloc[:,movie_position].replace(0,np.nan)\n",
    "        return np.sum(score[~np.isnan(score)])/len(score[~np.isnan(score)])\n",
    "    \n",
    "    def movie_score_new(self,user_id,k=10):\n",
    "        #user is in the training set but movie is new\n",
    "        user_position=np.where(self.ratings_matrix.index==user_id)[0][0]\n",
    "        #score of all movies for this user + replace all 0 with nan for calculation\n",
    "        score=self.ratings_matrix.iloc[user_position,:].replace(0,np.nan)\n",
    "        return np.sum(score[~np.isnan(score)])/len(score[~np.isnan(score)])\n",
    "    \n",
    "    def predict_score(self,user_id,movie_id):\n",
    "        existing_user=(user_id in self.ratings_matrix.index)\n",
    "        existing_movie=(movie_id in self.ratings_matrix.columns)\n",
    "        if existing_user:\n",
    "                if existing_movie:\n",
    "                    score=(self.user_score_existing(user_id,movie_id)+self.movie_score_existing(user_id,movie_id))/2\n",
    "                else:\n",
    "                    score=self.movie_score_new(user_id)\n",
    "        else:\n",
    "            if existing_movie:\n",
    "                score=self.user_score_new(movie_id)\n",
    "            else:\n",
    "                score=0\n",
    "        return np.clip(score,0,5) #clip score to [0,5] range and return score\n",
    "\n",
    "    def predict_matrix(self,x):\n",
    "        predicted_ratings=[]\n",
    "        print(x.shape[0])\n",
    "        for i in range(x.shape[0]):\n",
    "            user_id=x[\"UserID\"].iloc[i]\n",
    "            movie_id=x[\"MovieID\"].iloc[i]\n",
    "            # print(user_id,movie_id)\n",
    "            predicted_ratings.append(self.predict_score(user_id,movie_id))\n",
    "        # print(predicted_ratings)\n",
    "        return predicted_ratings"
   ]
  },
  {
   "cell_type": "code",
   "execution_count": 24,
   "id": "db7f16bd",
   "metadata": {},
   "outputs": [
    {
     "data": {
      "text/plain": [
       "<__main__.Recommender at 0x226279f3c10>"
      ]
     },
     "execution_count": 24,
     "metadata": {},
     "output_type": "execute_result"
    }
   ],
   "source": [
    "#train recommender on test set\n",
    "recommend=Recommender(ratings_matrix)\n",
    "recommend.similarity_matrix()"
   ]
  },
  {
   "cell_type": "code",
   "execution_count": 25,
   "id": "47e7ccde",
   "metadata": {},
   "outputs": [
    {
     "name": "stdout",
     "output_type": "stream",
     "text": [
      "200042\n"
     ]
    },
    {
     "name": "stderr",
     "output_type": "stream",
     "text": [
      "C:\\Users\\User\\AppData\\Local\\Temp\\ipykernel_9820\\3893631237.py:42: RuntimeWarning: invalid value encountered in scalar divide\n",
      "  return np.nan_to_num(sim_user[k_neighbours]@excess_score[k_neighbours]/np.sum(sim_user[k_neighbours]),nan=0)+self.user_mean[user_position]\n"
     ]
    }
   ],
   "source": [
    "#generate predicted ratings\n",
    "predicted_ratings=recommend.predict_matrix(test_ratings)"
   ]
  },
  {
   "cell_type": "code",
   "execution_count": 27,
   "id": "a733a6be",
   "metadata": {},
   "outputs": [
    {
     "name": "stdout",
     "output_type": "stream",
     "text": [
      "The MSE of the model is:  0.7730768628027168\n",
      "The z test statistic for this model:  0.08344790925855067\n"
     ]
    },
    {
     "data": {
      "image/png": "[encoded data removed]",
      "text/plain": [
       "<Figure size 640x480 with 1 Axes>"
      ]
     },
     "metadata": {},
     "output_type": "display_data"
    }
   ],
   "source": [
    "#print out performance\n",
    "prediction_error=np.subtract(predicted_ratings,test_ratings[\"Rating\"])\n",
    "MSE=np.mean(np.square(prediction_error))\n",
    "#print out MSE\n",
    "print(\"The MSE of the model is: \",MSE)\n",
    "\n",
    "#calculate z test statistic for check whether normally distributed with mean 0\n",
    "z_stat=(np.mean(prediction_error))/np.std(prediction_error)\n",
    "print(\"The z test statistic for this model: \",z_stat)\n",
    "#z stat<1.96- hence error normally distributed\n",
    "\n",
    "#print out histogram of prediction error\n",
    "plt.hist(prediction_error,bins=100)\n",
    "plt.title(\"Histogram of Prediction Error\")\n",
    "plt.xlabel(\"Prediction Error\")\n",
    "plt.ylabel(\"Counts\")\n",
    "plt.show()\n",
    "\n"
   ]
  }
 ],
 "metadata": {
  "kernelspec": {
   "display_name": "Python 3 (ipykernel)",
   "language": "python",
   "name": "python3"
  },
  "language_info": {
   "codemirror_mode": {
    "name": "ipython",
    "version": 3
   },
   "file_extension": ".py",
   "mimetype": "text/x-python",
   "name": "python",
   "nbconvert_exporter": "python",
   "pygments_lexer": "ipython3",
   "version": "3.10.13"
  }
 },
 "nbformat": 4,
 "nbformat_minor": 5
}

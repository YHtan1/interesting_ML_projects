{
 "cells": [
  {
   "cell_type": "markdown",
   "metadata": {},
   "source": [
    "<h3>Linear Regression by Successive Orthogonalization</h3>\n",
    "\n",
    "The code creates an orthogonal basis for the independent variables, X then regresses the dependent variable, y on X\n",
    "\n",
    "![alt_text](succ_ortho_1.jpg)\n"
   ]
  },
  {
   "cell_type": "code",
   "execution_count": 6,
   "metadata": {},
   "outputs": [],
   "source": [
    "#import libraries needed\n",
    "import numpy as np"
   ]
  },
  {
   "cell_type": "markdown",
   "metadata": {},
   "source": [
    "![alt_text](succ_ortho_2.jpg)"
   ]
  },
  {
   "cell_type": "code",
   "execution_count": 90,
   "metadata": {},
   "outputs": [],
   "source": [
    "#takes in X and y which are numpy arrays\n",
    "#Successive Orthogonal Regressors takes in X (predictor) and y (response)\n",
    "#fit intercept is set to true by default\n",
    "class Succ_Ortho_Regressor:\n",
    "    def __init__(self,X,y):\n",
    "        self.X = X\n",
    "        self.y = y\n",
    "    \n",
    "    def fit(self,fit_intercept=True):\n",
    "        self.fit_intercept=fit_intercept\n",
    "        if self.fit_intercept:\n",
    "            self.X=np.insert(self.X,0,np.ones(self.X.shape[0]),axis=1)\n",
    "\n",
    "        Q,R=np.linalg.qr(self.X,mode='reduced')\n",
    "        self.beta=np.linalg.inv(R)@Q.T@self.y\n",
    "        return self\n",
    "    \n",
    "    def predict(self,X_test):\n",
    "        if self.fit_intercept:\n",
    "            X_test=np.insert(X_test,0,np.ones(X_test.shape[0]),axis=1)\n",
    "        y_test=X_test@self.beta\n",
    "        return y_test\n"
   ]
  },
  {
   "cell_type": "code",
   "execution_count": null,
   "metadata": {},
   "outputs": [
    {
     "name": "stdout",
     "output_type": "stream",
     "text": [
      "[16.]\n",
      "[1. 2.]\n",
      "[3. 1. 2.]\n",
      "[16.]\n"
     ]
    }
   ],
   "source": [
    "#to check against sklearn implementation\n",
    "X = np.array([[1, 1], [1, 2], [2, 2], [2, 3]])\n",
    "y = np.dot(X, np.array([1, 2])) + 3\n",
    "\n",
    "#sklearn implementation\n",
    "from sklearn.linear_model import LinearRegression\n",
    "test_reg=LinearRegression(fit_intercept=True).fit(X,y)\n",
    "print(test_reg.predict(np.array([[3,5]])))\n",
    "print(test_reg.coef_)\n",
    "\n",
    "#Successive Orthogonalization\n",
    "new_reg=Succ_Ortho_Regressor(np.insert(X,0,np.ones(4),axis=1),y).fit()\n",
    "print(new_reg.beta)\n",
    "print(new_reg.predict(np.array([[3,5]])))\n"
   ]
  }
 ],
 "metadata": {
  "kernelspec": {
   "display_name": "ml_win",
   "language": "python",
   "name": "python3"
  },
  "language_info": {
   "codemirror_mode": {
    "name": "ipython",
    "version": 3
   },
   "file_extension": ".py",
   "mimetype": "text/x-python",
   "name": "python",
   "nbconvert_exporter": "python",
   "pygments_lexer": "ipython3",
   "version": "3.10.13"
  }
 },
 "nbformat": 4,
 "nbformat_minor": 2
}
